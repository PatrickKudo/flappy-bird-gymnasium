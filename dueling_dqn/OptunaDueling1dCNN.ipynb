{
  "cells": [
    {
      "cell_type": "code",
      "execution_count": 1,
      "metadata": {
        "colab": {
          "base_uri": "https://localhost:8080/"
        },
        "id": "b1bqlR9Q3K0o",
        "outputId": "2c227bb7-5cc9-4ced-a0fe-1cbaa4c44d3f"
      },
      "outputs": [
        {
          "output_type": "stream",
          "name": "stdout",
          "text": [
            "\u001b[2K     \u001b[32m/\u001b[0m \u001b[32m41.4 MB\u001b[0m \u001b[31m17.0 MB/s\u001b[0m \u001b[33m0:00:03\u001b[0m\n",
            "\u001b[?25h  Preparing metadata (setup.py) ... \u001b[?25l\u001b[?25hdone\n",
            "\u001b[2K     \u001b[90m━━━━━━━━━━━━━━━━━━━━━━━━━━━━━━━━━━━━━━━━\u001b[0m \u001b[32m953.9/953.9 kB\u001b[0m \u001b[31m18.6 MB/s\u001b[0m eta \u001b[36m0:00:00\u001b[0m\n",
            "\u001b[?25h  Building wheel for flappy-bird-gymnasium (setup.py) ... \u001b[?25l\u001b[?25hdone\n",
            "\u001b[2K     \u001b[90m━━━━━━━━━━━━━━━━━━━━━━━━━━━━━━━━━━━━━━━━\u001b[0m \u001b[32m380.1/380.1 kB\u001b[0m \u001b[31m8.9 MB/s\u001b[0m eta \u001b[36m0:00:00\u001b[0m\n",
            "\u001b[2K     \u001b[90m━━━━━━━━━━━━━━━━━━━━━━━━━━━━━━━━━━━━━━━━\u001b[0m \u001b[32m233.4/233.4 kB\u001b[0m \u001b[31m31.3 MB/s\u001b[0m eta \u001b[36m0:00:00\u001b[0m\n",
            "\u001b[2K     \u001b[90m━━━━━━━━━━━━━━━━━━━━━━━━━━━━━━━━━━━━━━━━\u001b[0m \u001b[32m78.8/78.8 kB\u001b[0m \u001b[31m12.1 MB/s\u001b[0m eta \u001b[36m0:00:00\u001b[0m\n",
            "\u001b[?25h"
          ]
        }
      ],
      "source": [
        "!pip install -q https://github.com/PatrickKudo/flappy-bird-gymnasium/archive/refs/heads/main.zip\n",
        "!pip install -q optuna"
      ]
    },
    {
      "cell_type": "code",
      "execution_count": 1,
      "metadata": {
        "colab": {
          "base_uri": "https://localhost:8080/"
        },
        "id": "n7zI34373_Tr",
        "outputId": "42fdb92e-e650-4921-f498-e5d0c9e0292a"
      },
      "outputs": [
        {
          "output_type": "stream",
          "name": "stdout",
          "text": [
            "Overwriting run_trial.py\n"
          ]
        }
      ],
      "source": [
        "%%writefile run_trial.py\n",
        "import numpy as np\n",
        "import matplotlib\n",
        "import matplotlib.pyplot as plt\n",
        "from IPython.display import display, clear_output\n",
        "\n",
        "import math\n",
        "import random\n",
        "import time\n",
        "from collections import namedtuple, deque\n",
        "from itertools import count\n",
        "import os\n",
        "\n",
        "import torch\n",
        "import torch.nn as nn\n",
        "import torch.optim as optim\n",
        "import torch.nn.functional as F\n",
        "\n",
        "import pygame\n",
        "import gymnasium\n",
        "import flappy_bird_gymnasium\n",
        "import torch\n",
        "import torch.nn as nn\n",
        "import torch.optim as optim\n",
        "import gymnasium as gym\n",
        "import argparse\n",
        "from statistics import mean, stdev\n",
        "\n",
        "\n",
        "class DuelingDQN(nn.Module):\n",
        "    def __init__(self, input_channels, input_length, action_space, model_size):\n",
        "        super(DuelingDQN, self).__init__()\n",
        "\n",
        "        if model_size == \"small\":\n",
        "          cnn_hidden = 8\n",
        "          dense_hidden = 64\n",
        "          stream_hidden = 64\n",
        "        elif model_size == \"medium\":\n",
        "          cnn_hidden = 16\n",
        "          dense_hidden = 128\n",
        "          stream_hidden = 128\n",
        "        elif model_size == \"large\":\n",
        "          cnn_hidden = 32\n",
        "          dense_hidden = 256\n",
        "          stream_hidden = 256\n",
        "        else:\n",
        "          raise ValueError(\"Invalid model size\")\n",
        "\n",
        "        # 1D Convolutional feature extractor\n",
        "        self.conv1d_features = nn.Sequential(\n",
        "            nn.Conv1d(input_channels, cnn_hidden, kernel_size=3, stride=1),\n",
        "            nn.ReLU(),\n",
        "            nn.Conv1d(cnn_hidden, 16, kernel_size=2, stride=1),\n",
        "            nn.ReLU(),\n",
        "            nn.Flatten()\n",
        "        )\n",
        "\n",
        "        # Fully Connected feature extractor\n",
        "        self.dense_features = nn.Sequential(\n",
        "            nn.Linear(input_length * input_channels, dense_hidden),\n",
        "            nn.ReLU(),\n",
        "            nn.Dropout(0.1)\n",
        "        )\n",
        "\n",
        "        # Combined feature size\n",
        "        combined_feature_size = 144 + dense_hidden\n",
        "\n",
        "        # Value stream\n",
        "        self.value_stream = nn.Sequential(\n",
        "            nn.Linear(combined_feature_size, stream_hidden),\n",
        "            nn.ReLU(),\n",
        "            nn.Linear(stream_hidden, 1)\n",
        "        )\n",
        "\n",
        "        # Advantage stream\n",
        "        self.advantage_stream = nn.Sequential(\n",
        "            nn.Linear(combined_feature_size, stream_hidden),\n",
        "            nn.ReLU(),\n",
        "            nn.Linear(stream_hidden, action_space)\n",
        "        )\n",
        "\n",
        "    def forward(self, state):\n",
        "        conv_features = self.conv1d_features(state.unsqueeze(1))\n",
        "        dense_features = self.dense_features(state.view(state.size(0), -1))\n",
        "        combined_features = torch.cat((conv_features, dense_features), dim=1)\n",
        "\n",
        "        value = self.value_stream(combined_features)\n",
        "        advantages = self.advantage_stream(combined_features)\n",
        "        # from the paper: Q(s, a; θ, α, β) = V (s; θ, β) + (A(s, a; θ, α) − mean(A(s, a'; θ, α))).\n",
        "        qvals = value + (advantages - advantages.mean(dim=1, keepdim=True))\n",
        "        return qvals\n",
        "\n",
        "\n",
        "# Replay memory\n",
        "class ReplayMemory(object):\n",
        "\n",
        "    def __init__(self, capacity):\n",
        "        self.memory = deque([], maxlen=capacity)\n",
        "\n",
        "    def push(self, *args):\n",
        "        \"\"\"Save a transition\"\"\"\n",
        "        self.memory.append(Transition(*args))\n",
        "\n",
        "    def sample(self, batch_size):\n",
        "        return random.sample(self.memory, batch_size)\n",
        "\n",
        "    def __len__(self):\n",
        "        return len(self.memory)\n",
        "\n",
        "\n",
        "\n",
        "# Initialize misc. game settings\n",
        "os.environ[\"SDL_VIDEODRIVER\"] = \"dummy\"\n",
        "os.environ[\"SDL_AUDIODRIVER\"] = \"dummy\"\n",
        "pygame.init()\n",
        "\n",
        "# Establish Flappy Bird environment\n",
        "env = gymnasium.make(\n",
        "    \"FlappyBird-v0\", audio_on=False, render_mode=\"rgb_array\", use_lidar=False\n",
        ")\n",
        "\n",
        "# set up matplotlib display functionality\n",
        "is_ipython = 'inline' in matplotlib.get_backend()\n",
        "if is_ipython:\n",
        "    from IPython import display\n",
        "\n",
        "plt.ion()\n",
        "\n",
        "# Check if GPU is available to be used\n",
        "device = torch.device(\"cuda\" if torch.cuda.is_available() else \"cpu\")\n",
        "print(\"cuda is available: \", torch.cuda.is_available())\n",
        "\n",
        "# Single transition of environment: map state-action pairs to rewards\n",
        "Transition = namedtuple('Transition',\n",
        "                        ('state', 'action', 'next_state', 'reward'))\n",
        "\n",
        "\n",
        "\n",
        "# Initialize the parser\n",
        "parser = argparse.ArgumentParser()\n",
        "\n",
        "# Adding arguments\n",
        "parser.add_argument(\"--batch_size\", type=int, help=\"The batch size for the model training\", required=True)\n",
        "parser.add_argument(\"--lr\", type=float, help=\"Learning rate\", required=True)\n",
        "parser.add_argument(\"--gamma\", type=float, help=\"Gamma value used in optimizations\", required=True)\n",
        "parser.add_argument(\"--tau\", type=float, help=\"Target network update rate\", required=True)\n",
        "parser.add_argument(\"--model_size\", type=str, help=\"Model size\", required=True)\n",
        "\n",
        "# Parse the arguments\n",
        "args = parser.parse_args()\n",
        "\n",
        "BATCH_SIZE = args.batch_size\n",
        "GAMMA = args.gamma\n",
        "LR = args.lr\n",
        "TAU = args.tau\n",
        "MODEL_SIZE = args.model_size\n",
        "\n",
        "EPS_START = 0.9\n",
        "EPS_END = 0.05\n",
        "EPS_DECAY = 1000\n",
        "\n",
        "print(\"Batch size:\", BATCH_SIZE)\n",
        "print(\"Learning rate:\", LR)\n",
        "print(\"Gamma:\", GAMMA)\n",
        "print(\"Tau:\", TAU)\n",
        "\n",
        "# Get number of actions from gym action space\n",
        "n_actions = env.action_space.n\n",
        "# Get the number of state observations\n",
        "state, info = env.reset()\n",
        "n_observations = len(state)\n",
        "\n",
        "input_channels = 1\n",
        "input_length = 12\n",
        "policy_net = DuelingDQN(input_channels, input_length, n_actions, MODEL_SIZE).to(device)\n",
        "target_net = DuelingDQN(input_channels, input_length, n_actions, MODEL_SIZE).to(device)\n",
        "target_net.load_state_dict(policy_net.state_dict())\n",
        "\n",
        "# Define optimizer\n",
        "optimizer = optim.AdamW(policy_net.parameters(), lr=LR, amsgrad=True)\n",
        "# Set replay limit\n",
        "memory = ReplayMemory(2000)\n",
        "\n",
        "# Initialize step counter\n",
        "steps_done = 0\n",
        "\n",
        "def select_action(state):\n",
        "    global steps_done\n",
        "    sample = random.random()\n",
        "    eps_threshold = EPS_END + (EPS_START - EPS_END) * \\\n",
        "        math.exp(-1. * steps_done / EPS_DECAY)\n",
        "    steps_done += 1\n",
        "    if sample > eps_threshold:\n",
        "        with torch.no_grad():\n",
        "            return policy_net(state).max(1).indices.view(1, 1)\n",
        "    else:\n",
        "        return torch.tensor([[env.action_space.sample()]], device=device, dtype=torch.long)\n",
        "\n",
        "episode_durations = []\n",
        "\n",
        "def optimize_model():\n",
        "    if len(memory) < BATCH_SIZE:\n",
        "        return\n",
        "    transitions = memory.sample(BATCH_SIZE)\n",
        "    batch = Transition(*zip(*transitions))\n",
        "    non_final_mask = torch.tensor(tuple(map(lambda s: s is not None,\n",
        "                                          batch.next_state)), device=device, dtype=torch.bool)\n",
        "    non_final_next_states = torch.cat([s for s in batch.next_state\n",
        "                                                if s is not None])\n",
        "    state_batch = torch.cat(batch.state)\n",
        "    action_batch = torch.cat(batch.action)\n",
        "    reward_batch = torch.cat(batch.reward)\n",
        "    state_action_values = policy_net(state_batch).gather(1, action_batch)\n",
        "    next_state_values = torch.zeros(BATCH_SIZE, device=device)\n",
        "    with torch.no_grad():\n",
        "        next_state_values[non_final_mask] = target_net(non_final_next_states).max(1).values\n",
        "    # Compute the expected Q values\n",
        "    expected_state_action_values = (next_state_values * GAMMA) + reward_batch\n",
        "\n",
        "    # Compute Huber loss\n",
        "    criterion = nn.SmoothL1Loss()\n",
        "    loss = criterion(state_action_values, expected_state_action_values.unsqueeze(1))\n",
        "\n",
        "    # Optimize the model\n",
        "    optimizer.zero_grad()\n",
        "    loss.backward()\n",
        "    # In-place gradient clipping\n",
        "    torch.nn.utils.clip_grad_value_(policy_net.parameters(), 100)\n",
        "    optimizer.step()\n",
        "\n",
        "\n",
        "# Determine episodes based on GPU availability\n",
        "if torch.cuda.is_available():\n",
        "    num_episodes = 2000\n",
        "else:\n",
        "    num_episodes = 50\n",
        "\n",
        "# Start training loop\n",
        "for i_episode in range(num_episodes):\n",
        "    # Initialize the environment and get its state\n",
        "    state, info = env.reset()\n",
        "    state = torch.tensor(state, dtype=torch.float32, device=device).unsqueeze(0)\n",
        "    for t in count():\n",
        "        action = select_action(state)\n",
        "        observation, reward, terminated, truncated, _ = env.step(action.item())\n",
        "        reward = torch.tensor([reward], device=device)\n",
        "        done = terminated or truncated\n",
        "\n",
        "        if terminated:\n",
        "            next_state = None\n",
        "        else:\n",
        "            next_state = torch.tensor(observation, dtype=torch.float32, device=device).unsqueeze(0)\n",
        "\n",
        "        # Store the transition in memory\n",
        "        memory.push(state, action, next_state, reward)\n",
        "\n",
        "        # Move to the next state\n",
        "        state = next_state\n",
        "\n",
        "        # Perform one step of the optimization (on the policy network)\n",
        "        optimize_model()\n",
        "\n",
        "        # Soft update of the target network's weights\n",
        "        # θ′ ← τ θ + (1 −τ )θ′\n",
        "        target_net_state_dict = target_net.state_dict()\n",
        "        policy_net_state_dict = policy_net.state_dict()\n",
        "        for key in policy_net_state_dict:\n",
        "            target_net_state_dict[key] = policy_net_state_dict[key]*TAU + target_net_state_dict[key]*(1-TAU)\n",
        "        target_net.load_state_dict(target_net_state_dict)\n",
        "\n",
        "        if done:\n",
        "            episode_durations.append(t + 1)\n",
        "            break\n",
        "\n",
        "print(\"std: \", stdev(episode_durations))\n",
        "print(\"mean: \", mean(episode_durations))\n",
        "print(\"maxL: \", max(episode_durations))\n",
        "\n",
        "with open('dqcnn_results.txt', 'w') as f:\n",
        "    f.write(f\"{mean(episode_durations)}\")"
      ]
    },
    {
      "cell_type": "code",
      "execution_count": 2,
      "metadata": {
        "id": "H5bFg_pOodUc"
      },
      "outputs": [],
      "source": [
        "import optuna\n",
        "import gc\n",
        "from statistics import mean, stdev\n",
        "\n",
        "\n",
        "def objective(trial):\n",
        "    # Define Hyperparameters\n",
        "    lr = trial.suggest_float('lr', 1e-5, 1e-3, log=True)\n",
        "    BS = trial.suggest_categorical('batch_size',\n",
        "                                            [64, 128, 256])\n",
        "    G = trial.suggest_float('gamma', 0.88, 0.99)\n",
        "    T = trial.suggest_float('tau', 0.001, 0.01)\n",
        "\n",
        "    # Run python script with parameters\n",
        "    !python run_trial.py --lr $lr --batch_size $BS --gamma $G --tau $T\n",
        "\n",
        "    # Clean up memory\n",
        "    gc.collect()\n",
        "\n",
        "    with open('dqcnn_results.txt', 'r') as f:\n",
        "        mean_reward = float(f.read())\n",
        "    print(f\"Mean reward: {mean_reward}\")\n",
        "    return mean_reward\n"
      ]
    },
    {
      "cell_type": "code",
      "execution_count": null,
      "metadata": {
        "colab": {
          "base_uri": "https://localhost:8080/"
        },
        "id": "aaU8mHwvodRD",
        "outputId": "3b97ccce-f285-42e7-abee-63ffbbc156de"
      },
      "outputs": [
        {
          "metadata": {
            "tags": null
          },
          "name": "stderr",
          "output_type": "stream",
          "text": [
            "[I 2024-04-24 12:54:39,446] A new study created in memory with name: no-name-057fb724-8c23-4a37-aa58-d5583220ba1c\n"
          ]
        },
        {
          "metadata": {
            "tags": null
          },
          "name": "stdout",
          "output_type": "stream",
          "text": [
            "pygame 2.5.2 (SDL 2.28.2, Python 3.10.12)\n",
            "Hello from the pygame community. https://www.pygame.org/contribute.html\n",
            "cuda is available:  True\n",
            "Batch size: 128\n",
            "Learning rate: 0.00017564655025175579\n",
            "Gamma: 0.9681211331147841\n",
            "Tau: 0.008001256929323113\n",
            "std:  40.001301351392335\n",
            "mean:  78.6815\n",
            "maxL:  355\n"
          ]
        },
        {
          "metadata": {
            "tags": null
          },
          "name": "stderr",
          "output_type": "stream",
          "text": [
            "[I 2024-04-24 13:13:14,306] Trial 0 finished with value: 78.6815 and parameters: {'lr': 0.00017564655025175579, 'batch_size': 128, 'model_size': 'medium', 'gamma': 0.9681211331147841, 'tau': 0.008001256929323113}. Best is trial 0 with value: 78.6815.\n"
          ]
        },
        {
          "metadata": {
            "tags": null
          },
          "name": "stdout",
          "output_type": "stream",
          "text": [
            "Mean reward: 78.6815\n",
            "pygame 2.5.2 (SDL 2.28.2, Python 3.10.12)\n",
            "Hello from the pygame community. https://www.pygame.org/contribute.html\n",
            "cuda is available:  True\n",
            "Batch size: 256\n",
            "Learning rate: 0.0009121957338150469\n",
            "Gamma: 0.9313249608727731\n",
            "Tau: 0.009498521384071975\n",
            "std:  41.33713316485729\n",
            "mean:  81.849\n",
            "maxL:  348\n"
          ]
        },
        {
          "metadata": {
            "tags": null
          },
          "name": "stderr",
          "output_type": "stream",
          "text": [
            "[I 2024-04-24 13:36:23,217] Trial 1 finished with value: 81.849 and parameters: {'lr': 0.0009121957338150469, 'batch_size': 256, 'model_size': 'large', 'gamma': 0.9313249608727731, 'tau': 0.009498521384071975}. Best is trial 1 with value: 81.849.\n"
          ]
        },
        {
          "metadata": {
            "tags": null
          },
          "name": "stdout",
          "output_type": "stream",
          "text": [
            "Mean reward: 81.849\n",
            "pygame 2.5.2 (SDL 2.28.2, Python 3.10.12)\n",
            "Hello from the pygame community. https://www.pygame.org/contribute.html\n",
            "cuda is available:  True\n",
            "Batch size: 256\n",
            "Learning rate: 0.0009664478893880014\n",
            "Gamma: 0.9620442110986965\n",
            "Tau: 0.006875530654026101\n",
            "std:  50.590697606794976\n",
            "mean:  86.455\n",
            "maxL:  481\n"
          ]
        },
        {
          "metadata": {
            "tags": null
          },
          "name": "stderr",
          "output_type": "stream",
          "text": [
            "[I 2024-04-24 14:01:13,417] Trial 2 finished with value: 86.455 and parameters: {'lr': 0.0009664478893880014, 'batch_size': 256, 'model_size': 'medium', 'gamma': 0.9620442110986965, 'tau': 0.006875530654026101}. Best is trial 2 with value: 86.455.\n"
          ]
        },
        {
          "metadata": {
            "tags": null
          },
          "name": "stdout",
          "output_type": "stream",
          "text": [
            "Mean reward: 86.455\n",
            "pygame 2.5.2 (SDL 2.28.2, Python 3.10.12)\n",
            "Hello from the pygame community. https://www.pygame.org/contribute.html\n",
            "cuda is available:  True\n",
            "Batch size: 128\n",
            "Learning rate: 4.485539183993879e-05\n",
            "Gamma: 0.968966241687172\n",
            "Tau: 0.0011717909415261264\n",
            "std:  42.09339801950437\n",
            "mean:  77.6295\n",
            "maxL:  480\n"
          ]
        },
        {
          "metadata": {
            "tags": null
          },
          "name": "stderr",
          "output_type": "stream",
          "text": [
            "[I 2024-04-24 14:19:41,746] Trial 3 finished with value: 77.6295 and parameters: {'lr': 4.485539183993879e-05, 'batch_size': 128, 'model_size': 'large', 'gamma': 0.968966241687172, 'tau': 0.0011717909415261264}. Best is trial 2 with value: 86.455.\n"
          ]
        },
        {
          "metadata": {
            "tags": null
          },
          "name": "stdout",
          "output_type": "stream",
          "text": [
            "Mean reward: 77.6295\n",
            "pygame 2.5.2 (SDL 2.28.2, Python 3.10.12)\n",
            "Hello from the pygame community. https://www.pygame.org/contribute.html\n",
            "cuda is available:  True\n",
            "Batch size: 64\n",
            "Learning rate: 0.000431745088455759\n",
            "Gamma: 0.8826779188216232\n",
            "Tau: 0.00714371950573442\n",
            "std:  33.88063182123827\n",
            "mean:  71.144\n",
            "maxL:  401\n"
          ]
        },
        {
          "metadata": {
            "tags": null
          },
          "name": "stderr",
          "output_type": "stream",
          "text": [
            "[I 2024-04-24 14:34:07,927] Trial 4 finished with value: 71.144 and parameters: {'lr': 0.000431745088455759, 'batch_size': 64, 'model_size': 'small', 'gamma': 0.8826779188216232, 'tau': 0.00714371950573442}. Best is trial 2 with value: 86.455.\n"
          ]
        },
        {
          "metadata": {
            "tags": null
          },
          "name": "stdout",
          "output_type": "stream",
          "text": [
            "Mean reward: 71.144\n",
            "pygame 2.5.2 (SDL 2.28.2, Python 3.10.12)\n",
            "Hello from the pygame community. https://www.pygame.org/contribute.html\n",
            "cuda is available:  True\n",
            "Batch size: 128\n",
            "Learning rate: 1.3554220579265984e-05\n",
            "Gamma: 0.9599263660373278\n",
            "Tau: 0.0030665569670349883\n",
            "std:  22.534705994024385\n",
            "mean:  65.2635\n",
            "maxL:  213\n"
          ]
        },
        {
          "metadata": {
            "tags": null
          },
          "name": "stderr",
          "output_type": "stream",
          "text": [
            "[I 2024-04-24 14:49:25,009] Trial 5 finished with value: 65.2635 and parameters: {'lr': 1.3554220579265984e-05, 'batch_size': 128, 'model_size': 'medium', 'gamma': 0.9599263660373278, 'tau': 0.0030665569670349883}. Best is trial 2 with value: 86.455.\n"
          ]
        },
        {
          "metadata": {
            "tags": null
          },
          "name": "stdout",
          "output_type": "stream",
          "text": [
            "Mean reward: 65.2635\n",
            "pygame 2.5.2 (SDL 2.28.2, Python 3.10.12)\n",
            "Hello from the pygame community. https://www.pygame.org/contribute.html\n",
            "cuda is available:  True\n",
            "Batch size: 128\n",
            "Learning rate: 0.00025295571947379165\n",
            "Gamma: 0.9290090548357925\n",
            "Tau: 0.0022845264311459317\n",
            "std:  39.48505705789765\n",
            "mean:  78.202\n",
            "maxL:  425\n"
          ]
        },
        {
          "metadata": {
            "tags": null
          },
          "name": "stderr",
          "output_type": "stream",
          "text": [
            "[I 2024-04-24 15:07:52,495] Trial 6 finished with value: 78.202 and parameters: {'lr': 0.00025295571947379165, 'batch_size': 128, 'model_size': 'medium', 'gamma': 0.9290090548357925, 'tau': 0.0022845264311459317}. Best is trial 2 with value: 86.455.\n"
          ]
        },
        {
          "metadata": {
            "tags": null
          },
          "name": "stdout",
          "output_type": "stream",
          "text": [
            "Mean reward: 78.202\n",
            "pygame 2.5.2 (SDL 2.28.2, Python 3.10.12)\n",
            "Hello from the pygame community. https://www.pygame.org/contribute.html\n",
            "cuda is available:  True\n",
            "Batch size: 128\n",
            "Learning rate: 0.0003361398955745435\n",
            "Gamma: 0.9364861976143245\n",
            "Tau: 0.0046934424239105125\n",
            "std:  35.47344644168685\n",
            "mean:  75.1195\n",
            "maxL:  312\n"
          ]
        },
        {
          "metadata": {
            "tags": null
          },
          "name": "stderr",
          "output_type": "stream",
          "text": [
            "[I 2024-04-24 15:25:25,216] Trial 7 finished with value: 75.1195 and parameters: {'lr': 0.0003361398955745435, 'batch_size': 128, 'model_size': 'small', 'gamma': 0.9364861976143245, 'tau': 0.0046934424239105125}. Best is trial 2 with value: 86.455.\n"
          ]
        },
        {
          "metadata": {
            "tags": null
          },
          "name": "stdout",
          "output_type": "stream",
          "text": [
            "Mean reward: 75.1195\n",
            "pygame 2.5.2 (SDL 2.28.2, Python 3.10.12)\n",
            "Hello from the pygame community. https://www.pygame.org/contribute.html\n",
            "cuda is available:  True\n",
            "Batch size: 256\n",
            "Learning rate: 0.00027606132114150876\n",
            "Gamma: 0.9342852469707638\n",
            "Tau: 0.0017076207820913762\n",
            "std:  43.76389331605552\n",
            "mean:  80.909\n",
            "maxL:  348\n"
          ]
        },
        {
          "metadata": {
            "tags": null
          },
          "name": "stderr",
          "output_type": "stream",
          "text": [
            "[I 2024-04-24 15:48:02,801] Trial 8 finished with value: 80.909 and parameters: {'lr': 0.00027606132114150876, 'batch_size': 256, 'model_size': 'small', 'gamma': 0.9342852469707638, 'tau': 0.0017076207820913762}. Best is trial 2 with value: 86.455.\n"
          ]
        },
        {
          "metadata": {
            "tags": null
          },
          "name": "stdout",
          "output_type": "stream",
          "text": [
            "Mean reward: 80.909\n",
            "pygame 2.5.2 (SDL 2.28.2, Python 3.10.12)\n",
            "Hello from the pygame community. https://www.pygame.org/contribute.html\n",
            "cuda is available:  True\n",
            "Batch size: 64\n",
            "Learning rate: 0.0009137083722247889\n",
            "Gamma: 0.9853925910030875\n",
            "Tau: 0.0053983730471448416\n",
            "std:  38.89076730910494\n",
            "mean:  78.408\n",
            "maxL:  461\n"
          ]
        },
        {
          "metadata": {
            "tags": null
          },
          "name": "stderr",
          "output_type": "stream",
          "text": [
            "[I 2024-04-24 16:04:28,713] Trial 9 finished with value: 78.408 and parameters: {'lr': 0.0009137083722247889, 'batch_size': 64, 'model_size': 'medium', 'gamma': 0.9853925910030875, 'tau': 0.0053983730471448416}. Best is trial 2 with value: 86.455.\n"
          ]
        },
        {
          "metadata": {
            "tags": null
          },
          "name": "stdout",
          "output_type": "stream",
          "text": [
            "Mean reward: 78.408\n",
            "pygame 2.5.2 (SDL 2.28.2, Python 3.10.12)\n",
            "Hello from the pygame community. https://www.pygame.org/contribute.html\n",
            "cuda is available:  True\n",
            "Batch size: 256\n",
            "Learning rate: 6.37634079827441e-05\n",
            "Gamma: 0.8985735048561767\n",
            "Tau: 0.006657921950470906\n",
            "std:  32.90440245393351\n",
            "mean:  72.843\n",
            "maxL:  348\n"
          ]
        },
        {
          "metadata": {
            "tags": null
          },
          "name": "stderr",
          "output_type": "stream",
          "text": [
            "[I 2024-04-24 16:25:19,069] Trial 10 finished with value: 72.843 and parameters: {'lr': 6.37634079827441e-05, 'batch_size': 256, 'model_size': 'medium', 'gamma': 0.8985735048561767, 'tau': 0.006657921950470906}. Best is trial 2 with value: 86.455.\n"
          ]
        },
        {
          "metadata": {
            "tags": null
          },
          "name": "stdout",
          "output_type": "stream",
          "text": [
            "Mean reward: 72.843\n",
            "pygame 2.5.2 (SDL 2.28.2, Python 3.10.12)\n",
            "Hello from the pygame community. https://www.pygame.org/contribute.html\n",
            "cuda is available:  True\n",
            "Batch size: 256\n",
            "Learning rate: 0.0009668359683999224\n",
            "Gamma: 0.9180678982581054\n",
            "Tau: 0.00953932681720496\n",
            "std:  46.51629158360913\n",
            "mean:  85.15\n",
            "maxL:  409\n"
          ]
        },
        {
          "metadata": {
            "tags": null
          },
          "name": "stderr",
          "output_type": "stream",
          "text": [
            "[I 2024-04-24 16:49:20,602] Trial 11 finished with value: 85.15 and parameters: {'lr': 0.0009668359683999224, 'batch_size': 256, 'model_size': 'large', 'gamma': 0.9180678982581054, 'tau': 0.00953932681720496}. Best is trial 2 with value: 86.455.\n"
          ]
        },
        {
          "metadata": {
            "tags": null
          },
          "name": "stdout",
          "output_type": "stream",
          "text": [
            "Mean reward: 85.15\n",
            "pygame 2.5.2 (SDL 2.28.2, Python 3.10.12)\n",
            "Hello from the pygame community. https://www.pygame.org/contribute.html\n",
            "cuda is available:  True\n",
            "Batch size: 256\n",
            "Learning rate: 0.0006321635222586329\n",
            "Gamma: 0.9099268170898538\n",
            "Tau: 0.009932078536855505\n",
            "std:  42.412047898014215\n",
            "mean:  80.328\n",
            "maxL:  389\n"
          ]
        },
        {
          "metadata": {
            "tags": null
          },
          "name": "stderr",
          "output_type": "stream",
          "text": [
            "[I 2024-04-24 17:12:30,049] Trial 12 finished with value: 80.328 and parameters: {'lr': 0.0006321635222586329, 'batch_size': 256, 'model_size': 'large', 'gamma': 0.9099268170898538, 'tau': 0.009932078536855505}. Best is trial 2 with value: 86.455.\n"
          ]
        },
        {
          "metadata": {
            "tags": null
          },
          "name": "stdout",
          "output_type": "stream",
          "text": [
            "Mean reward: 80.328\n",
            "pygame 2.5.2 (SDL 2.28.2, Python 3.10.12)\n",
            "Hello from the pygame community. https://www.pygame.org/contribute.html\n",
            "cuda is available:  True\n",
            "Batch size: 256\n",
            "Learning rate: 0.00014170285332843215\n",
            "Gamma: 0.9507622718263072\n",
            "Tau: 0.008481712951401472\n",
            "std:  48.09845845609739\n",
            "mean:  84.855\n",
            "maxL:  425\n"
          ]
        },
        {
          "metadata": {
            "tags": null
          },
          "name": "stderr",
          "output_type": "stream",
          "text": [
            "[I 2024-04-24 17:36:09,589] Trial 13 finished with value: 84.855 and parameters: {'lr': 0.00014170285332843215, 'batch_size': 256, 'model_size': 'large', 'gamma': 0.9507622718263072, 'tau': 0.008481712951401472}. Best is trial 2 with value: 86.455.\n"
          ]
        },
        {
          "metadata": {
            "tags": null
          },
          "name": "stdout",
          "output_type": "stream",
          "text": [
            "Mean reward: 84.855\n",
            "pygame 2.5.2 (SDL 2.28.2, Python 3.10.12)\n",
            "Hello from the pygame community. https://www.pygame.org/contribute.html\n",
            "cuda is available:  True\n",
            "Batch size: 256\n",
            "Learning rate: 0.0005512409477439518\n",
            "Gamma: 0.9095555257909912\n",
            "Tau: 0.0043728858607654025\n",
            "std:  33.43319907517377\n",
            "mean:  69.717\n",
            "maxL:  359\n"
          ]
        },
        {
          "metadata": {
            "tags": null
          },
          "name": "stderr",
          "output_type": "stream",
          "text": [
            "[I 2024-04-24 17:55:54,501] Trial 14 finished with value: 69.717 and parameters: {'lr': 0.0005512409477439518, 'batch_size': 256, 'model_size': 'large', 'gamma': 0.9095555257909912, 'tau': 0.0043728858607654025}. Best is trial 2 with value: 86.455.\n"
          ]
        },
        {
          "metadata": {
            "tags": null
          },
          "name": "stdout",
          "output_type": "stream",
          "text": [
            "Mean reward: 69.717\n",
            "pygame 2.5.2 (SDL 2.28.2, Python 3.10.12)\n",
            "Hello from the pygame community. https://www.pygame.org/contribute.html\n",
            "cuda is available:  True\n",
            "Batch size: 256\n",
            "Learning rate: 1.1770770853568454e-05\n",
            "Gamma: 0.9882022302035249\n",
            "Tau: 0.0065387590258514\n",
            "std:  17.81003527307608\n",
            "mean:  59.0935\n",
            "maxL:  199\n"
          ]
        },
        {
          "metadata": {
            "tags": null
          },
          "name": "stderr",
          "output_type": "stream",
          "text": [
            "[I 2024-04-24 18:13:42,629] Trial 15 finished with value: 59.0935 and parameters: {'lr': 1.1770770853568454e-05, 'batch_size': 256, 'model_size': 'medium', 'gamma': 0.9882022302035249, 'tau': 0.0065387590258514}. Best is trial 2 with value: 86.455.\n"
          ]
        },
        {
          "metadata": {
            "tags": null
          },
          "name": "stdout",
          "output_type": "stream",
          "text": [
            "Mean reward: 59.0935\n",
            "pygame 2.5.2 (SDL 2.28.2, Python 3.10.12)\n",
            "Hello from the pygame community. https://www.pygame.org/contribute.html\n",
            "cuda is available:  True\n",
            "Batch size: 64\n",
            "Learning rate: 2.922048002525846e-05\n",
            "Gamma: 0.949055990145032\n",
            "Tau: 0.008542482093121286\n",
            "std:  28.85426804464456\n",
            "mean:  72.55\n",
            "maxL:  312\n"
          ]
        },
        {
          "metadata": {
            "tags": null
          },
          "name": "stderr",
          "output_type": "stream",
          "text": [
            "[I 2024-04-24 18:29:13,126] Trial 16 finished with value: 72.55 and parameters: {'lr': 2.922048002525846e-05, 'batch_size': 64, 'model_size': 'large', 'gamma': 0.949055990145032, 'tau': 0.008542482093121286}. Best is trial 2 with value: 86.455.\n"
          ]
        },
        {
          "metadata": {
            "tags": null
          },
          "name": "stdout",
          "output_type": "stream",
          "text": [
            "Mean reward: 72.55\n",
            "pygame 2.5.2 (SDL 2.28.2, Python 3.10.12)\n",
            "Hello from the pygame community. https://www.pygame.org/contribute.html\n",
            "cuda is available:  True\n",
            "Batch size: 256\n",
            "Learning rate: 9.970874441597265e-05\n",
            "Gamma: 0.9136743427986681\n",
            "Tau: 0.007638979460063958\n",
            "std:  37.638734661561905\n",
            "mean:  76.6095\n",
            "maxL:  360\n"
          ]
        },
        {
          "metadata": {
            "tags": null
          },
          "name": "stderr",
          "output_type": "stream",
          "text": [
            "[I 2024-04-24 18:51:45,136] Trial 17 finished with value: 76.6095 and parameters: {'lr': 9.970874441597265e-05, 'batch_size': 256, 'model_size': 'medium', 'gamma': 0.9136743427986681, 'tau': 0.007638979460063958}. Best is trial 2 with value: 86.455.\n"
          ]
        },
        {
          "metadata": {
            "tags": null
          },
          "name": "stdout",
          "output_type": "stream",
          "text": [
            "Mean reward: 76.6095\n",
            "pygame 2.5.2 (SDL 2.28.2, Python 3.10.12)\n",
            "Hello from the pygame community. https://www.pygame.org/contribute.html\n",
            "cuda is available:  True\n",
            "Batch size: 256\n",
            "Learning rate: 0.0007240286269111403\n",
            "Gamma: 0.9209212374052363\n",
            "Tau: 0.009135102769096666\n",
            "std:  37.69043745484747\n",
            "mean:  76.453\n",
            "maxL:  502\n"
          ]
        },
        {
          "metadata": {
            "tags": null
          },
          "name": "stderr",
          "output_type": "stream",
          "text": [
            "[I 2024-04-24 19:14:18,557] Trial 18 finished with value: 76.453 and parameters: {'lr': 0.0007240286269111403, 'batch_size': 256, 'model_size': 'large', 'gamma': 0.9209212374052363, 'tau': 0.009135102769096666}. Best is trial 2 with value: 86.455.\n"
          ]
        },
        {
          "metadata": {
            "tags": null
          },
          "name": "stdout",
          "output_type": "stream",
          "text": [
            "Mean reward: 76.453\n",
            "pygame 2.5.2 (SDL 2.28.2, Python 3.10.12)\n",
            "Hello from the pygame community. https://www.pygame.org/contribute.html\n",
            "cuda is available:  True\n",
            "Batch size: 256\n",
            "Learning rate: 0.00045629103590286656\n",
            "Gamma: 0.8890729570807044\n",
            "Tau: 0.005773554422484147\n",
            "std:  39.52367689775028\n",
            "mean:  77.345\n",
            "maxL:  463\n"
          ]
        },
        {
          "metadata": {
            "tags": null
          },
          "name": "stderr",
          "output_type": "stream",
          "text": [
            "[I 2024-04-24 19:36:29,558] Trial 19 finished with value: 77.345 and parameters: {'lr': 0.00045629103590286656, 'batch_size': 256, 'model_size': 'small', 'gamma': 0.8890729570807044, 'tau': 0.005773554422484147}. Best is trial 2 with value: 86.455.\n"
          ]
        },
        {
          "metadata": {
            "tags": null
          },
          "name": "stdout",
          "output_type": "stream",
          "text": [
            "Mean reward: 77.345\n",
            "pygame 2.5.2 (SDL 2.28.2, Python 3.10.12)\n",
            "Hello from the pygame community. https://www.pygame.org/contribute.html\n",
            "cuda is available:  True\n",
            "Batch size: 64\n",
            "Learning rate: 0.000169044170684921\n",
            "Gamma: 0.9498590770549784\n",
            "Tau: 0.0034430715228084977\n",
            "std:  41.70548725987735\n",
            "mean:  79.8975\n",
            "maxL:  425\n"
          ]
        },
        {
          "metadata": {
            "tags": null
          },
          "name": "stderr",
          "output_type": "stream",
          "text": [
            "[I 2024-04-24 19:53:02,305] Trial 20 finished with value: 79.8975 and parameters: {'lr': 0.000169044170684921, 'batch_size': 64, 'model_size': 'large', 'gamma': 0.9498590770549784, 'tau': 0.0034430715228084977}. Best is trial 2 with value: 86.455.\n"
          ]
        },
        {
          "metadata": {
            "tags": null
          },
          "name": "stdout",
          "output_type": "stream",
          "text": [
            "Mean reward: 79.8975\n",
            "pygame 2.5.2 (SDL 2.28.2, Python 3.10.12)\n",
            "Hello from the pygame community. https://www.pygame.org/contribute.html\n",
            "cuda is available:  True\n",
            "Batch size: 256\n",
            "Learning rate: 0.00012034936121760006\n",
            "Gamma: 0.9484693184513387\n",
            "Tau: 0.008697794528920383\n",
            "std:  45.48153607852346\n",
            "mean:  84.631\n",
            "maxL:  425\n"
          ]
        },
        {
          "metadata": {
            "tags": null
          },
          "name": "stderr",
          "output_type": "stream",
          "text": [
            "[I 2024-04-24 20:16:52,523] Trial 21 finished with value: 84.631 and parameters: {'lr': 0.00012034936121760006, 'batch_size': 256, 'model_size': 'large', 'gamma': 0.9484693184513387, 'tau': 0.008697794528920383}. Best is trial 2 with value: 86.455.\n"
          ]
        },
        {
          "metadata": {
            "tags": null
          },
          "name": "stdout",
          "output_type": "stream",
          "text": [
            "Mean reward: 84.631\n",
            "pygame 2.5.2 (SDL 2.28.2, Python 3.10.12)\n",
            "Hello from the pygame community. https://www.pygame.org/contribute.html\n",
            "cuda is available:  True\n",
            "Batch size: 256\n",
            "Learning rate: 0.0009733095895360589\n",
            "Gamma: 0.9748851506127703\n",
            "Tau: 0.008045281642203514\n",
            "std:  41.07748409530213\n",
            "mean:  79.0805\n",
            "maxL:  316\n"
          ]
        },
        {
          "metadata": {
            "tags": null
          },
          "name": "stderr",
          "output_type": "stream",
          "text": [
            "[I 2024-04-24 20:40:00,379] Trial 22 finished with value: 79.0805 and parameters: {'lr': 0.0009733095895360589, 'batch_size': 256, 'model_size': 'large', 'gamma': 0.9748851506127703, 'tau': 0.008045281642203514}. Best is trial 2 with value: 86.455.\n"
          ]
        },
        {
          "metadata": {
            "tags": null
          },
          "name": "stdout",
          "output_type": "stream",
          "text": [
            "Mean reward: 79.0805\n",
            "pygame 2.5.2 (SDL 2.28.2, Python 3.10.12)\n",
            "Hello from the pygame community. https://www.pygame.org/contribute.html\n",
            "cuda is available:  True\n",
            "Batch size: 256\n",
            "Learning rate: 2.4463129916161673e-05\n",
            "Gamma: 0.9583473707450728\n",
            "Tau: 0.00888311660586814\n",
            "std:  36.369074758638\n",
            "mean:  78.766\n",
            "maxL:  360\n"
          ]
        },
        {
          "metadata": {
            "tags": null
          },
          "name": "stderr",
          "output_type": "stream",
          "text": [
            "[I 2024-04-24 21:03:44,499] Trial 23 finished with value: 78.766 and parameters: {'lr': 2.4463129916161673e-05, 'batch_size': 256, 'model_size': 'large', 'gamma': 0.9583473707450728, 'tau': 0.00888311660586814}. Best is trial 2 with value: 86.455.\n"
          ]
        },
        {
          "metadata": {
            "tags": null
          },
          "name": "stdout",
          "output_type": "stream",
          "text": [
            "Mean reward: 78.766\n",
            "pygame 2.5.2 (SDL 2.28.2, Python 3.10.12)\n",
            "Hello from the pygame community. https://www.pygame.org/contribute.html\n",
            "cuda is available:  True\n",
            "Batch size: 256\n",
            "Learning rate: 7.491907680009718e-05\n",
            "Gamma: 0.9409390730645204\n",
            "Tau: 0.009991543456066617\n",
            "std:  42.93124071949071\n",
            "mean:  79.546\n",
            "maxL:  425\n"
          ]
        },
        {
          "metadata": {
            "tags": null
          },
          "name": "stderr",
          "output_type": "stream",
          "text": [
            "[I 2024-04-24 21:26:42,260] Trial 24 finished with value: 79.546 and parameters: {'lr': 7.491907680009718e-05, 'batch_size': 256, 'model_size': 'large', 'gamma': 0.9409390730645204, 'tau': 0.009991543456066617}. Best is trial 2 with value: 86.455.\n"
          ]
        },
        {
          "metadata": {
            "tags": null
          },
          "name": "stdout",
          "output_type": "stream",
          "text": [
            "Mean reward: 79.546\n",
            "pygame 2.5.2 (SDL 2.28.2, Python 3.10.12)\n",
            "Hello from the pygame community. https://www.pygame.org/contribute.html\n",
            "cuda is available:  True\n",
            "Batch size: 256\n",
            "Learning rate: 0.0003456910723302612\n",
            "Gamma: 0.9238939357621286\n",
            "Tau: 0.007382967337868394\n",
            "std:  43.639482653018604\n",
            "mean:  83.266\n",
            "maxL:  359\n"
          ]
        },
        {
          "metadata": {
            "tags": null
          },
          "name": "stderr",
          "output_type": "stream",
          "text": [
            "[I 2024-04-24 21:49:49,741] Trial 25 finished with value: 83.266 and parameters: {'lr': 0.0003456910723302612, 'batch_size': 256, 'model_size': 'medium', 'gamma': 0.9238939357621286, 'tau': 0.007382967337868394}. Best is trial 2 with value: 86.455.\n"
          ]
        },
        {
          "metadata": {
            "tags": null
          },
          "name": "stdout",
          "output_type": "stream",
          "text": [
            "Mean reward: 83.266\n",
            "pygame 2.5.2 (SDL 2.28.2, Python 3.10.12)\n",
            "Hello from the pygame community. https://www.pygame.org/contribute.html\n",
            "cuda is available:  True\n",
            "Batch size: 256\n",
            "Learning rate: 0.00019348840972027096\n",
            "Gamma: 0.9598669711491383\n",
            "Tau: 0.0062861024013329565\n",
            "std:  45.924376249623236\n",
            "mean:  83.5345\n",
            "maxL:  474\n"
          ]
        },
        {
          "metadata": {
            "tags": null
          },
          "name": "stderr",
          "output_type": "stream",
          "text": [
            "[I 2024-04-24 22:13:47,400] Trial 26 finished with value: 83.5345 and parameters: {'lr': 0.00019348840972027096, 'batch_size': 256, 'model_size': 'large', 'gamma': 0.9598669711491383, 'tau': 0.0062861024013329565}. Best is trial 2 with value: 86.455.\n"
          ]
        },
        {
          "metadata": {
            "tags": null
          },
          "name": "stdout",
          "output_type": "stream",
          "text": [
            "Mean reward: 83.5345\n",
            "pygame 2.5.2 (SDL 2.28.2, Python 3.10.12)\n",
            "Hello from the pygame community. https://www.pygame.org/contribute.html\n",
            "cuda is available:  True\n",
            "Batch size: 256\n",
            "Learning rate: 0.0006701803879215573\n",
            "Gamma: 0.9781015955929993\n",
            "Tau: 0.0081551630410963\n",
            "std:  50.23917319444689\n",
            "mean:  83.408\n",
            "maxL:  514\n"
          ]
        },
        {
          "metadata": {
            "tags": null
          },
          "name": "stderr",
          "output_type": "stream",
          "text": [
            "[I 2024-04-24 22:37:17,244] Trial 27 finished with value: 83.408 and parameters: {'lr': 0.0006701803879215573, 'batch_size': 256, 'model_size': 'large', 'gamma': 0.9781015955929993, 'tau': 0.0081551630410963}. Best is trial 2 with value: 86.455.\n"
          ]
        },
        {
          "metadata": {
            "tags": null
          },
          "name": "stdout",
          "output_type": "stream",
          "text": [
            "Mean reward: 83.408\n",
            "pygame 2.5.2 (SDL 2.28.2, Python 3.10.12)\n",
            "Hello from the pygame community. https://www.pygame.org/contribute.html\n",
            "cuda is available:  True\n",
            "Batch size: 256\n",
            "Learning rate: 0.0004772709090796336\n",
            "Gamma: 0.9448743797678584\n",
            "Tau: 0.009312176229764513\n",
            "std:  42.16133250656773\n",
            "mean:  79.5695\n",
            "maxL:  466\n"
          ]
        },
        {
          "metadata": {
            "tags": null
          },
          "name": "stderr",
          "output_type": "stream",
          "text": [
            "[I 2024-04-24 22:59:20,526] Trial 28 finished with value: 79.5695 and parameters: {'lr': 0.0004772709090796336, 'batch_size': 256, 'model_size': 'small', 'gamma': 0.9448743797678584, 'tau': 0.009312176229764513}. Best is trial 2 with value: 86.455.\n"
          ]
        },
        {
          "metadata": {
            "tags": null
          },
          "name": "stdout",
          "output_type": "stream",
          "text": [
            "Mean reward: 79.5695\n",
            "pygame 2.5.2 (SDL 2.28.2, Python 3.10.12)\n",
            "Hello from the pygame community. https://www.pygame.org/contribute.html\n",
            "cuda is available:  True\n",
            "Batch size: 64\n",
            "Learning rate: 0.0001765912168805269\n",
            "Gamma: 0.9667164701393973\n",
            "Tau: 0.008139815162126472\n",
            "std:  30.991005343584824\n",
            "mean:  70.447\n",
            "maxL:  348\n"
          ]
        },
        {
          "metadata": {
            "tags": null
          },
          "name": "stderr",
          "output_type": "stream",
          "text": [
            "[I 2024-04-24 23:13:56,418] Trial 29 finished with value: 70.447 and parameters: {'lr': 0.0001765912168805269, 'batch_size': 64, 'model_size': 'medium', 'gamma': 0.9667164701393973, 'tau': 0.008139815162126472}. Best is trial 2 with value: 86.455.\n"
          ]
        },
        {
          "metadata": {
            "tags": null
          },
          "name": "stdout",
          "output_type": "stream",
          "text": [
            "Mean reward: 70.447\n",
            "pygame 2.5.2 (SDL 2.28.2, Python 3.10.12)\n",
            "Hello from the pygame community. https://www.pygame.org/contribute.html\n",
            "cuda is available:  True\n",
            "Batch size: 128\n",
            "Learning rate: 0.00011986859983406246\n",
            "Gamma: 0.9544037142461727\n",
            "Tau: 0.007397846635917882\n",
            "std:  36.9021993539488\n",
            "mean:  75.413\n",
            "maxL:  464\n"
          ]
        },
        {
          "metadata": {
            "tags": null
          },
          "name": "stderr",
          "output_type": "stream",
          "text": [
            "[I 2024-04-24 23:31:47,788] Trial 30 finished with value: 75.413 and parameters: {'lr': 0.00011986859983406246, 'batch_size': 128, 'model_size': 'medium', 'gamma': 0.9544037142461727, 'tau': 0.007397846635917882}. Best is trial 2 with value: 86.455.\n"
          ]
        },
        {
          "metadata": {
            "tags": null
          },
          "name": "stdout",
          "output_type": "stream",
          "text": [
            "Mean reward: 75.413\n",
            "pygame 2.5.2 (SDL 2.28.2, Python 3.10.12)\n",
            "Hello from the pygame community. https://www.pygame.org/contribute.html\n",
            "cuda is available:  True\n",
            "Batch size: 256\n",
            "Learning rate: 0.00011912364845963011\n",
            "Gamma: 0.9419522427480308\n",
            "Tau: 0.009235307280301074\n"
          ]
        }
      ],
      "source": [
        "study = optuna.create_study(direction='maximize')\n",
        "study.optimize(objective, n_trials=32)\n",
        "\n",
        "print(\"Best trial:\")\n",
        "trial = study.best_trial\n",
        "print(\"  Value: \", trial.value)\n",
        "print(\"  Params: \")\n",
        "for key, value in trial.params.items():\n",
        "    print(f\"    {key}: {value}\")\n",
        "\n",
        "# save tuna results\n",
        "study.trials_dataframe().to_csv('dqcnn_tuna_results.csv')\n",
        "!cp dqcnn_tuna_results.csv \"/content/drive/MyDrive/MSAI/spr24/RL/\"\n",
        "# visualize\n",
        "optuna.visualization.plot_optimization_history(study)"
      ]
    },
    {
      "cell_type": "code",
      "execution_count": null,
      "metadata": {
        "id": "DdT8etbS4fif"
      },
      "outputs": [],
      "source": []
    },
    {
      "cell_type": "code",
      "source": [],
      "metadata": {
        "id": "ZDKZCldkKqQL"
      },
      "execution_count": null,
      "outputs": []
    }
  ],
  "metadata": {
    "accelerator": "GPU",
    "colab": {
      "gpuType": "T4",
      "machine_shape": "hm",
      "provenance": []
    },
    "kernelspec": {
      "display_name": "Python 3",
      "name": "python3"
    },
    "language_info": {
      "name": "python"
    }
  },
  "nbformat": 4,
  "nbformat_minor": 0
}