{
 "cells": [
  {
   "cell_type": "code",
   "execution_count": 1,
   "metadata": {
    "scrolled": true
   },
   "outputs": [
    {
     "name": "stdout",
     "output_type": "stream",
     "text": [
      "Collecting https://github.com/PatrickKudo/flappy-bird-gymnasium/archive/refs/heads/main.zip\n",
      "  Downloading https://github.com/PatrickKudo/flappy-bird-gymnasium/archive/refs/heads/main.zip\n",
      "\u001b[2K     \u001b[32m-\u001b[0m \u001b[32m41.2 MB\u001b[0m \u001b[31m33.5 MB/s\u001b[0m \u001b[33m0:00:02\u001b[0mm\n",
      "\u001b[?25h  Preparing metadata (setup.py) ... \u001b[?25ldone\n",
      "\u001b[?25hRequirement already satisfied: gymnasium in /usr/local/lib/python3.9/site-packages (from flappy-bird-gymnasium==0.4.0) (0.29.1)\n",
      "Requirement already satisfied: numpy in /usr/local/lib/python3.9/site-packages (from flappy-bird-gymnasium==0.4.0) (1.26.4)\n",
      "Collecting pygame\n",
      "  Downloading pygame-2.5.2-cp39-cp39-manylinux_2_17_x86_64.manylinux2014_x86_64.whl (14.0 MB)\n",
      "\u001b[2K     \u001b[90m━━━━━━━━━━━━━━━━━━━━━━━━━━━━━━━━━━━━━━━━\u001b[0m \u001b[32m14.0/14.0 MB\u001b[0m \u001b[31m63.1 MB/s\u001b[0m eta \u001b[36m0:00:00\u001b[0m00:01\u001b[0m00:01\u001b[0m\n",
      "\u001b[?25hRequirement already satisfied: matplotlib in /usr/local/lib/python3.9/site-packages (from flappy-bird-gymnasium==0.4.0) (3.8.3)\n",
      "Requirement already satisfied: farama-notifications>=0.0.1 in /usr/local/lib/python3.9/site-packages (from gymnasium->flappy-bird-gymnasium==0.4.0) (0.0.4)\n",
      "Requirement already satisfied: importlib-metadata>=4.8.0 in /usr/local/lib/python3.9/site-packages (from gymnasium->flappy-bird-gymnasium==0.4.0) (7.1.0)\n",
      "Requirement already satisfied: typing-extensions>=4.3.0 in /usr/local/lib/python3.9/site-packages (from gymnasium->flappy-bird-gymnasium==0.4.0) (4.10.0)\n",
      "Requirement already satisfied: cloudpickle>=1.2.0 in /usr/local/lib/python3.9/site-packages (from gymnasium->flappy-bird-gymnasium==0.4.0) (3.0.0)\n",
      "Requirement already satisfied: fonttools>=4.22.0 in /usr/local/lib/python3.9/site-packages (from matplotlib->flappy-bird-gymnasium==0.4.0) (4.50.0)\n",
      "Requirement already satisfied: pyparsing>=2.3.1 in /usr/local/lib/python3.9/site-packages (from matplotlib->flappy-bird-gymnasium==0.4.0) (3.1.2)\n",
      "Requirement already satisfied: importlib-resources>=3.2.0 in /usr/local/lib/python3.9/site-packages (from matplotlib->flappy-bird-gymnasium==0.4.0) (6.4.0)\n",
      "Requirement already satisfied: kiwisolver>=1.3.1 in /usr/local/lib/python3.9/site-packages (from matplotlib->flappy-bird-gymnasium==0.4.0) (1.4.5)\n",
      "Requirement already satisfied: python-dateutil>=2.7 in /usr/local/lib/python3.9/site-packages (from matplotlib->flappy-bird-gymnasium==0.4.0) (2.9.0.post0)\n",
      "Requirement already satisfied: cycler>=0.10 in /usr/local/lib/python3.9/site-packages (from matplotlib->flappy-bird-gymnasium==0.4.0) (0.12.1)\n",
      "Requirement already satisfied: contourpy>=1.0.1 in /usr/local/lib/python3.9/site-packages (from matplotlib->flappy-bird-gymnasium==0.4.0) (1.2.0)\n",
      "Requirement already satisfied: packaging>=20.0 in /usr/local/lib/python3.9/site-packages (from matplotlib->flappy-bird-gymnasium==0.4.0) (24.0)\n",
      "Requirement already satisfied: pillow>=8 in /usr/local/lib/python3.9/site-packages (from matplotlib->flappy-bird-gymnasium==0.4.0) (10.2.0)\n",
      "Requirement already satisfied: zipp>=0.5 in /usr/local/lib/python3.9/site-packages (from importlib-metadata>=4.8.0->gymnasium->flappy-bird-gymnasium==0.4.0) (3.18.1)\n",
      "Requirement already satisfied: six>=1.5 in /usr/local/lib/python3.9/site-packages (from python-dateutil>=2.7->matplotlib->flappy-bird-gymnasium==0.4.0) (1.16.0)\n",
      "Building wheels for collected packages: flappy-bird-gymnasium\n",
      "  Building wheel for flappy-bird-gymnasium (setup.py) ... \u001b[?25ldone\n",
      "\u001b[?25h  Created wheel for flappy-bird-gymnasium: filename=flappy_bird_gymnasium-0.4.0-py3-none-any.whl size=37337038 sha256=b9c734282ffc0b657d20b9d04608207d0c0d6b920fe4c96b250fd85a7fd07700\n",
      "  Stored in directory: /tmp/pip-ephem-wheel-cache-ci2dbxrq/wheels/b3/ab/3a/16e737ffa32277861d1c68a284d31c75f834b599b6e44e116a\n",
      "Successfully built flappy-bird-gymnasium\n",
      "Installing collected packages: pygame, flappy-bird-gymnasium\n",
      "Successfully installed flappy-bird-gymnasium-0.4.0 pygame-2.5.2\n",
      "\u001b[33mWARNING: Running pip as the 'root' user can result in broken permissions and conflicting behaviour with the system package manager. It is recommended to use a virtual environment instead: https://pip.pypa.io/warnings/venv\u001b[0m\u001b[33m\n",
      "\u001b[0m\n",
      "\u001b[1m[\u001b[0m\u001b[34;49mnotice\u001b[0m\u001b[1;39;49m]\u001b[0m\u001b[39;49m A new release of pip is available: \u001b[0m\u001b[31;49m23.0.1\u001b[0m\u001b[39;49m -> \u001b[0m\u001b[32;49m24.0\u001b[0m\n",
      "\u001b[1m[\u001b[0m\u001b[34;49mnotice\u001b[0m\u001b[1;39;49m]\u001b[0m\u001b[39;49m To update, run: \u001b[0m\u001b[32;49mpip install --upgrade pip\u001b[0m\n",
      "Note: you may need to restart the kernel to use updated packages.\n"
     ]
    }
   ],
   "source": [
    "pip install https://github.com/PatrickKudo/flappy-bird-gymnasium/archive/refs/heads/main.zip"
   ]
  },
  {
   "cell_type": "code",
   "execution_count": 2,
   "metadata": {},
   "outputs": [
    {
     "name": "stdout",
     "output_type": "stream",
     "text": [
      "pygame 2.5.2 (SDL 2.28.2, Python 3.9.19)\n",
      "Hello from the pygame community. https://www.pygame.org/contribute.html\n"
     ]
    },
    {
     "data": {
      "text/plain": [
       "(5, 0)"
      ]
     },
     "execution_count": 2,
     "metadata": {},
     "output_type": "execute_result"
    }
   ],
   "source": [
    "import os\n",
    "os.environ[\"SDL_VIDEODRIVER\"] = \"dummy\"\n",
    "os.environ[\"SDL_AUDIODRIVER\"] = \"dummy\"\n",
    "\n",
    "import pygame\n",
    "pygame.init()"
   ]
  },
  {
   "cell_type": "code",
   "execution_count": 3,
   "metadata": {},
   "outputs": [
    {
     "data": {
      "image/png": "[encoded data removed]",
      "text/plain": [
       "<Figure size 640x480 with 1 Axes>"
      ]
     },
     "metadata": {},
     "output_type": "display_data"
    }
   ],
   "source": [
    "import gymnasium\n",
    "import matplotlib.pyplot as plt\n",
    "import numpy as np\n",
    "import pygame\n",
    "from IPython.display import display, clear_output\n",
    "import flappy_bird_gymnasium\n",
    "import time\n",
    "\n",
    "env = gymnasium.make(\n",
    "    \"FlappyBird-v0\", audio_on=False, render_mode=\"rgb_array\", use_lidar=False\n",
    ")\n",
    "\n",
    "steps = 0\n",
    "\n",
    "obs = env.reset()\n",
    "while True:\n",
    "    # Getting action:\n",
    "    action = 0\n",
    "    for event in pygame.event.get():\n",
    "        if event.type == pygame.QUIT:\n",
    "            pygame.quit()\n",
    "        if event.type == pygame.KEYDOWN and (\n",
    "            event.key == pygame.K_SPACE or event.key == pygame.K_UP\n",
    "        ):\n",
    "            action = 1\n",
    "\n",
    "    # Processing:\n",
    "    obs, _, done, _, info = env.step(action)\n",
    "\n",
    "    # Get the RGB image of the game screen:\n",
    "    rgb_image = env.render()\n",
    "\n",
    "    steps += 1\n",
    "    print(\n",
    "        f\"Action: {action}\\n\"\n",
    "        f\"Score: {info['score']}\\n Steps: {steps}\\n\"\n",
    "    )\n",
    "\n",
    "    # Display the game screen:\n",
    "    plt.imshow(rgb_image)\n",
    "    plt.axis('off')\n",
    "    display(plt.gcf())\n",
    "    clear_output(wait=True)\n",
    "    time.sleep(0.2)\n",
    "\n",
    "    if done:\n",
    "        break\n",
    "\n",
    "env.close()"
   ]
  },
  {
   "cell_type": "code",
   "execution_count": null,
   "metadata": {},
   "outputs": [],
   "source": []
  }
 ],
 "metadata": {
  "kernelspec": {
   "display_name": "Python 3 (ipykernel)",
   "language": "python",
   "name": "python3"
  },
  "language_info": {
   "codemirror_mode": {
    "name": "ipython",
    "version": 3
   },
   "file_extension": ".py",
   "mimetype": "text/x-python",
   "name": "python",
   "nbconvert_exporter": "python",
   "pygments_lexer": "ipython3",
   "version": "3.9.19"
  }
 },
 "nbformat": 4,
 "nbformat_minor": 4
}
