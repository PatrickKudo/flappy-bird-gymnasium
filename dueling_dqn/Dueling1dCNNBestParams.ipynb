{
  "nbformat": 4,
  "nbformat_minor": 0,
  "metadata": {
    "colab": {
      "provenance": [],
      "machine_shape": "hm",
      "gpuType": "T4"
    },
    "kernelspec": {
      "name": "python3",
      "display_name": "Python 3"
    },
    "language_info": {
      "name": "python"
    },
    "accelerator": "GPU"
  },
  "cells": [
    {
      "cell_type": "code",
      "execution_count": 2,
      "metadata": {
        "colab": {
          "base_uri": "https://localhost:8080/"
        },
        "id": "b1bqlR9Q3K0o",
        "outputId": "3cbd8ccc-e3bb-41c2-86c8-dbb7566c5203"
      },
      "outputs": [
        {
          "output_type": "stream",
          "name": "stdout",
          "text": [
            "\u001b[2K     \u001b[32m-\u001b[0m \u001b[32m41.4 MB\u001b[0m \u001b[31m20.0 MB/s\u001b[0m \u001b[33m0:00:02\u001b[0m\n",
            "\u001b[?25h  Preparing metadata (setup.py) ... \u001b[?25l\u001b[?25hdone\n",
            "\u001b[2K     \u001b[90m━━━━━━━━━━━━━━━━━━━━━━━━━━━━━━━━━━━━━━━━\u001b[0m \u001b[32m953.9/953.9 kB\u001b[0m \u001b[31m8.8 MB/s\u001b[0m eta \u001b[36m0:00:00\u001b[0m\n",
            "\u001b[?25h  Building wheel for flappy-bird-gymnasium (setup.py) ... \u001b[?25l\u001b[?25hdone\n"
          ]
        }
      ],
      "source": [
        "pip install -q https://github.com/PatrickKudo/flappy-bird-gymnasium/archive/refs/heads/main.zip"
      ]
    },
    {
      "cell_type": "code",
      "source": [
        "# Trial 3 finished with value: 82.5985 and parameters:\n",
        "#  {'lr': 0.0009811163667618748, 'batch_size': 64, 'gamma': 0.9585385406069935, 'tau': 0.007998939936210122}. Best is trial 3 with value: 82.5985."
      ],
      "metadata": {
        "id": "tDLn5gad-L67"
      },
      "execution_count": null,
      "outputs": []
    },
    {
      "cell_type": "code",
      "source": [
        "# Import necessary Python packages\n",
        "import numpy as np\n",
        "import matplotlib\n",
        "import matplotlib.pyplot as plt\n",
        "from IPython.display import display, clear_output\n",
        "\n",
        "import math\n",
        "import random\n",
        "import time\n",
        "from collections import namedtuple, deque\n",
        "from itertools import count\n",
        "import os\n",
        "\n",
        "import torch\n",
        "import torch.nn as nn\n",
        "import torch.optim as optim\n",
        "import torch.nn.functional as F\n",
        "\n",
        "import pygame\n",
        "import gymnasium\n",
        "import flappy_bird_gymnasium\n",
        "\n",
        "# Initialize misc. game settings\n",
        "os.environ[\"SDL_VIDEODRIVER\"] = \"dummy\"\n",
        "os.environ[\"SDL_AUDIODRIVER\"] = \"dummy\"\n",
        "pygame.init()\n",
        "\n",
        "# Establish Flappy Bird environment\n",
        "env = gymnasium.make(\n",
        "    \"FlappyBird-v0\", audio_on=False, render_mode=\"rgb_array\", use_lidar=False\n",
        ")\n",
        "\n",
        "# set up matplotlib display functionality\n",
        "is_ipython = 'inline' in matplotlib.get_backend()\n",
        "if is_ipython:\n",
        "    from IPython import display\n",
        "\n",
        "plt.ion()"
      ],
      "metadata": {
        "colab": {
          "base_uri": "https://localhost:8080/"
        },
        "id": "n7zI34373_Tr",
        "outputId": "4221e82d-af0e-4062-c510-e6e32216df16"
      },
      "execution_count": 3,
      "outputs": [
        {
          "output_type": "stream",
          "name": "stdout",
          "text": [
            "pygame 2.5.2 (SDL 2.28.2, Python 3.10.12)\n",
            "Hello from the pygame community. https://www.pygame.org/contribute.html\n"
          ]
        },
        {
          "output_type": "execute_result",
          "data": {
            "text/plain": [
              "<contextlib.ExitStack at 0x785d34b374c0>"
            ]
          },
          "metadata": {},
          "execution_count": 3
        }
      ]
    },
    {
      "cell_type": "code",
      "source": [
        "# Check if GPU is available to be used\n",
        "device = torch.device(\"cuda\" if torch.cuda.is_available() else \"cpu\")\n",
        "print(\"cuda is available: \", torch.cuda.is_available())"
      ],
      "metadata": {
        "colab": {
          "base_uri": "https://localhost:8080/"
        },
        "id": "j10HrTkQ4E6T",
        "outputId": "eecf5442-11e9-4d60-afd1-8c33799eddc8"
      },
      "execution_count": 4,
      "outputs": [
        {
          "output_type": "stream",
          "name": "stdout",
          "text": [
            "cuda is available:  True\n"
          ]
        }
      ]
    },
    {
      "cell_type": "code",
      "source": [
        "# Single transition of environment: map state-action pairs to rewards\n",
        "Transition = namedtuple('Transition',\n",
        "                        ('state', 'action', 'next_state', 'reward'))"
      ],
      "metadata": {
        "id": "oEjIR1-q4HU7"
      },
      "execution_count": 5,
      "outputs": []
    },
    {
      "cell_type": "code",
      "source": [
        "# Replay memory\n",
        "class ReplayMemory(object):\n",
        "\n",
        "    def __init__(self, capacity):\n",
        "        self.memory = deque([], maxlen=capacity)\n",
        "\n",
        "    def push(self, *args):\n",
        "        \"\"\"Save a transition\"\"\"\n",
        "        self.memory.append(Transition(*args))\n",
        "\n",
        "    def sample(self, batch_size):\n",
        "        return random.sample(self.memory, batch_size)\n",
        "\n",
        "    def __len__(self):\n",
        "        return len(self.memory)"
      ],
      "metadata": {
        "id": "oksrLwMX4JOk"
      },
      "execution_count": 6,
      "outputs": []
    },
    {
      "cell_type": "code",
      "source": [
        "import torch\n",
        "import torch.nn as nn\n",
        "import torch.optim as optim\n",
        "import gymnasium as gym\n",
        "\n",
        "\n",
        "class DuelingDQN(nn.Module):\n",
        "    def __init__(self, input_channels, input_length, action_space):\n",
        "        super(DuelingDQN, self).__init__()\n",
        "\n",
        "        # 1D Convolutional feature extractor\n",
        "        self.conv1d_features = nn.Sequential(\n",
        "            nn.Conv1d(input_channels, 8, kernel_size=3, stride=1),\n",
        "            nn.ReLU(),\n",
        "            nn.Conv1d(8, 16, kernel_size=2, stride=1),\n",
        "            nn.ReLU(),\n",
        "            nn.Flatten()\n",
        "        )\n",
        "\n",
        "        # Fully Connected feature extractor\n",
        "        self.dense_features = nn.Sequential(\n",
        "            nn.Linear(input_length * input_channels, 128),\n",
        "            nn.ReLU(),\n",
        "            nn.Dropout(0.1)\n",
        "        )\n",
        "\n",
        "        # Combined feature size\n",
        "        combined_feature_size = 144 + 128\n",
        "\n",
        "        # Value stream\n",
        "        self.value_stream = nn.Sequential(\n",
        "            nn.Linear(combined_feature_size, 128),\n",
        "            nn.ReLU(),\n",
        "            nn.Linear(128, 1)\n",
        "        )\n",
        "\n",
        "        # Advantage stream\n",
        "        self.advantage_stream = nn.Sequential(\n",
        "            nn.Linear(combined_feature_size, 128),\n",
        "            nn.ReLU(),\n",
        "            nn.Linear(128, action_space)\n",
        "        )\n",
        "\n",
        "    def forward(self, state):\n",
        "        conv_features = self.conv1d_features(state.unsqueeze(1))\n",
        "        dense_features = self.dense_features(state.view(state.size(0), -1))\n",
        "        combined_features = torch.cat((conv_features, dense_features), dim=1)\n",
        "\n",
        "        value = self.value_stream(combined_features)\n",
        "        advantages = self.advantage_stream(combined_features)\n",
        "        # from the paper: Q(s, a; θ, α, β) = V (s; θ, β) + (A(s, a; θ, α) − mean(A(s, a'; θ, α))).\n",
        "        qvals = value + (advantages - advantages.mean(dim=1, keepdim=True))\n",
        "        return qvals"
      ],
      "metadata": {
        "id": "9hSxL7tH4LH7"
      },
      "execution_count": 7,
      "outputs": []
    },
    {
      "cell_type": "code",
      "source": [
        "##### Define DL training hyperparameters\n",
        "# BATCH_SIZE is the number of transitions sampled from the replay buffer\n",
        "# GAMMA is the discount factor as mentioned in the previous section\n",
        "# EPS_START is the starting value of epsilon\n",
        "# EPS_END is the final value of epsilon\n",
        "# EPS_DECAY controls the rate of exponential decay of epsilon, higher means a slower decay\n",
        "# TAU is the update rate of the target network\n",
        "# LR is the learning rate of the ``AdamW`` optimizer\n",
        "BATCH_SIZE = 64\n",
        "GAMMA = 0.9585385406069935\n",
        "TAU = 0.007998939936210122\n",
        "LR = 0.0009811163667618748\n",
        "\n",
        "EPS_START = 0.9\n",
        "EPS_END = 0.05\n",
        "EPS_DECAY = 1000\n",
        "\n",
        "# Get number of actions from gym action space\n",
        "n_actions = env.action_space.n\n",
        "# Get the number of state observations\n",
        "state, info = env.reset()\n",
        "n_observations = len(state)\n",
        "\n",
        "input_channels = 1\n",
        "input_length = 12\n",
        "policy_net = DuelingDQN(input_channels, input_length, n_actions).to(device)\n",
        "target_net = DuelingDQN(input_channels, input_length, n_actions).to(device)\n",
        "target_net.load_state_dict(policy_net.state_dict())\n",
        "\n",
        "# Define optimizer\n",
        "optimizer = optim.AdamW(policy_net.parameters(), lr=LR, amsgrad=True)\n",
        "# Set replay limit\n",
        "memory = ReplayMemory(10000)\n",
        "\n",
        "# Initialize step counter\n",
        "steps_done = 0"
      ],
      "metadata": {
        "id": "o99yStTZ4M5f"
      },
      "execution_count": 8,
      "outputs": []
    },
    {
      "cell_type": "code",
      "source": [
        "def select_action(state):\n",
        "    global steps_done\n",
        "    sample = random.random()\n",
        "    eps_threshold = EPS_END + (EPS_START - EPS_END) * \\\n",
        "        math.exp(-1. * steps_done / EPS_DECAY)\n",
        "    steps_done += 1\n",
        "    if sample > eps_threshold:\n",
        "        with torch.no_grad():\n",
        "            # t.max(1) will return the largest column value of each row.\n",
        "            # second column on max result is index of where max element was\n",
        "            # found, so we pick action with the larger expected reward.\n",
        "            return policy_net(state).max(1).indices.view(1, 1)\n",
        "    else:\n",
        "        return torch.tensor([[env.action_space.sample()]], device=device, dtype=torch.long)"
      ],
      "metadata": {
        "id": "RVSSa1iG4PXz"
      },
      "execution_count": 9,
      "outputs": []
    },
    {
      "cell_type": "code",
      "source": [
        "episode_durations = []\n",
        "\n",
        "\n",
        "def plot_durations(show_result=False):\n",
        "    plt.figure(1)\n",
        "    durations_t = torch.tensor(episode_durations, dtype=torch.float)\n",
        "    if show_result:\n",
        "        plt.title('Result')\n",
        "    else:\n",
        "        plt.clf()\n",
        "        plt.title('Training...')\n",
        "    plt.xlabel('Episode')\n",
        "    plt.ylabel('Duration')\n",
        "    plt.plot(durations_t.numpy())\n",
        "    # Take 100 episode averages and plot them too\n",
        "    if len(durations_t) >= 100:\n",
        "        means = durations_t.unfold(0, 100, 1).mean(1).view(-1)\n",
        "        means = torch.cat((torch.zeros(99), means))\n",
        "        plt.plot(means.numpy())\n",
        "\n",
        "    plt.pause(0.001)  # pause a bit so that plots are updated\n",
        "    if is_ipython:\n",
        "        if not show_result:\n",
        "            display.display(plt.gcf())\n",
        "            display.clear_output(wait=True)\n",
        "        else:\n",
        "            display.display(plt.gcf())\n"
      ],
      "metadata": {
        "id": "aviotCvQ4UOq"
      },
      "execution_count": 10,
      "outputs": []
    },
    {
      "cell_type": "code",
      "source": [
        "# Train DQN model\n",
        "\n",
        "\n",
        "def optimize_model():\n",
        "    if len(memory) < BATCH_SIZE:\n",
        "        return\n",
        "    transitions = memory.sample(BATCH_SIZE)\n",
        "    # Transpose the batch (see https://stackoverflow.com/a/19343/3343043 for\n",
        "    # detailed explanation). This converts batch-array of Transitions\n",
        "    # to Transition of batch-arrays.\n",
        "    batch = Transition(*zip(*transitions))\n",
        "\n",
        "    # Compute a mask of non-final states and concatenate the batch elements\n",
        "    # (a final state would've been the one after which simulation ended)\n",
        "    non_final_mask = torch.tensor(tuple(map(lambda s: s is not None,\n",
        "                                          batch.next_state)), device=device, dtype=torch.bool)\n",
        "    non_final_next_states = torch.cat([s for s in batch.next_state\n",
        "                                                if s is not None])\n",
        "    state_batch = torch.cat(batch.state)\n",
        "    action_batch = torch.cat(batch.action)\n",
        "    reward_batch = torch.cat(batch.reward)\n",
        "\n",
        "    # Compute Q(s_t, a) - the model computes Q(s_t), then we select the\n",
        "    # columns of actions taken. These are the actions which would've been taken\n",
        "    # for each batch state according to policy_net\n",
        "    state_action_values = policy_net(state_batch).gather(1, action_batch)\n",
        "\n",
        "    # Compute V(s_{t+1}) for all next states.\n",
        "    # Expected values of actions for non_final_next_states are computed based\n",
        "    # on the \"older\" target_net; selecting their best reward with max(1).values\n",
        "    # This is merged based on the mask, such that we'll have either the expected\n",
        "    # state value or 0 in case the state was final.\n",
        "    next_state_values = torch.zeros(BATCH_SIZE, device=device)\n",
        "    with torch.no_grad():\n",
        "        next_state_values[non_final_mask] = target_net(non_final_next_states).max(1).values\n",
        "    # Compute the expected Q values\n",
        "    expected_state_action_values = (next_state_values * GAMMA) + reward_batch\n",
        "\n",
        "    # Compute Huber loss\n",
        "    criterion = nn.SmoothL1Loss()\n",
        "    loss = criterion(state_action_values, expected_state_action_values.unsqueeze(1))\n",
        "\n",
        "    # Optimize the model\n",
        "    optimizer.zero_grad()\n",
        "    loss.backward()\n",
        "    # In-place gradient clipping\n",
        "    torch.nn.utils.clip_grad_value_(policy_net.parameters(), 100)\n",
        "    optimizer.step()"
      ],
      "metadata": {
        "id": "d7NYFeWH4Wha"
      },
      "execution_count": 11,
      "outputs": []
    },
    {
      "cell_type": "code",
      "source": [
        "# Determine episodes based on GPU availability\n",
        "if torch.cuda.is_available():\n",
        "    num_episodes = 10000\n",
        "else:\n",
        "    num_episodes = 50\n",
        "\n",
        "# Start training loop\n",
        "for i_episode in range(num_episodes):\n",
        "    # Initialize the environment and get its state\n",
        "    state, info = env.reset()\n",
        "    state = torch.tensor(state, dtype=torch.float32, device=device).unsqueeze(0)\n",
        "    for t in count():\n",
        "        action = select_action(state)\n",
        "        observation, reward, terminated, truncated, _ = env.step(action.item())\n",
        "        reward = torch.tensor([reward], device=device)\n",
        "        done = terminated or truncated\n",
        "\n",
        "        if terminated:\n",
        "            next_state = None\n",
        "        else:\n",
        "            next_state = torch.tensor(observation, dtype=torch.float32, device=device).unsqueeze(0)\n",
        "\n",
        "        # Store the transition in memory\n",
        "        memory.push(state, action, next_state, reward)\n",
        "\n",
        "        # Move to the next state\n",
        "        state = next_state\n",
        "\n",
        "        # Perform one step of the optimization (on the policy network)\n",
        "        optimize_model()\n",
        "\n",
        "        # Soft update of the target network's weights\n",
        "        # θ′ ← τ θ + (1 −τ )θ′\n",
        "        target_net_state_dict = target_net.state_dict()\n",
        "        policy_net_state_dict = policy_net.state_dict()\n",
        "        for key in policy_net_state_dict:\n",
        "            target_net_state_dict[key] = policy_net_state_dict[key]*TAU + target_net_state_dict[key]*(1-TAU)\n",
        "        target_net.load_state_dict(target_net_state_dict)\n",
        "\n",
        "        if done:\n",
        "            episode_durations.append(t + 1)\n",
        "            plot_durations()\n",
        "            break\n",
        "\n",
        "print('Complete')\n",
        "plot_durations(show_result=True)\n",
        "plt.ioff()\n",
        "plt.show()"
      ],
      "metadata": {
        "colab": {
          "base_uri": "https://localhost:8080/",
          "height": 526
        },
        "id": "0n-9ejPR4Ylc",
        "outputId": "3f030b7c-2f5b-4b22-ffd5-b32fd23d5420"
      },
      "execution_count": 12,
      "outputs": [
        {
          "output_type": "stream",
          "name": "stdout",
          "text": [
            "Complete\n"
          ]
        },
        {
          "output_type": "display_data",
          "data": {
            "text/plain": [
              "<Figure size 640x480 with 1 Axes>"
            ],
            "image/png": "[encoded data removed]"
          },
          "metadata": {}
        },
        {
          "output_type": "display_data",
          "data": {
            "text/plain": [
              "<Figure size 640x480 with 0 Axes>"
            ]
          },
          "metadata": {}
        },
        {
          "output_type": "display_data",
          "data": {
            "text/plain": [
              "<Figure size 640x480 with 0 Axes>"
            ]
          },
          "metadata": {}
        }
      ]
    },
    {
      "cell_type": "code",
      "source": [
        "from statistics import mean, stdev\n",
        "\n",
        "print(\"std: \", stdev(episode_durations))\n",
        "print(\"mean: \", mean(episode_durations))\n",
        "print(\"maxL: \", max(episode_durations))"
      ],
      "metadata": {
        "id": "peFxak5Z4fpt",
        "colab": {
          "base_uri": "https://localhost:8080/"
        },
        "outputId": "af455814-4fe9-4c41-86ac-0482381a6f72"
      },
      "execution_count": 14,
      "outputs": [
        {
          "output_type": "stream",
          "name": "stdout",
          "text": [
            "std:  58.251824825232276\n",
            "mean:  93.9198\n",
            "maxL:  557\n"
          ]
        }
      ]
    },
    {
      "cell_type": "code",
      "source": [
        "# Live demo of flappy bird agent\n",
        "pygame.init()\n",
        "steps = 0\n",
        "\n",
        "obs = env.reset()\n",
        "while True:\n",
        "    # Getting action:\n",
        "    action = 0\n",
        "    for event in pygame.event.get():\n",
        "        if event.type == pygame.QUIT:\n",
        "            pygame.quit()\n",
        "        if event.type == pygame.KEYDOWN and (\n",
        "            event.key == pygame.K_SPACE or event.key == pygame.K_UP\n",
        "        ):\n",
        "            action = 1\n",
        "\n",
        "    # Processing:\n",
        "    obs, _, done, _, info = env.step(action)\n",
        "\n",
        "    # Get the RGB image of the game screen:\n",
        "    rgb_image = env.render()\n",
        "\n",
        "    steps += 1\n",
        "    print(\n",
        "        f\"Action: {action}\\n\"\n",
        "        f\"Score: {info['score']}\\n Steps: {steps}\\n\"\n",
        "    )\n",
        "\n",
        "    # Display the game screen:\n",
        "    plt.imshow(rgb_image)\n",
        "    plt.axis('off')\n",
        "    display.display(plt.gcf())\n",
        "    clear_output(wait=True)\n",
        "    time.sleep(0.2)\n",
        "\n",
        "    if done:\n",
        "        break\n",
        "\n",
        "env.close()\n"
      ],
      "metadata": {
        "id": "1GDuzRMO4fnT"
      },
      "execution_count": null,
      "outputs": []
    },
    {
      "cell_type": "code",
      "source": [],
      "metadata": {
        "id": "p5fZX6mX4fk4"
      },
      "execution_count": null,
      "outputs": []
    },
    {
      "cell_type": "code",
      "source": [],
      "metadata": {
        "id": "DdT8etbS4fif"
      },
      "execution_count": null,
      "outputs": []
    }
  ]
}