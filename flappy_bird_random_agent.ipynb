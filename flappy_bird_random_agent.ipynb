{
 "cells": [
  {
   "cell_type": "code",
   "execution_count": 1,
   "metadata": {
    "scrolled": true
   },
   "outputs": [
    {
     "name": "stdout",
     "output_type": "stream",
     "text": [
      "Looking in indexes: https://pypi.org/simple, https://pypi.ngc.nvidia.com\n",
      "Collecting https://github.com/PatrickKudo/flappy-bird-gymnasium/archive/refs/heads/main.zip\n",
      "  Downloading https://github.com/PatrickKudo/flappy-bird-gymnasium/archive/refs/heads/main.zip (41.2 MB)\n",
      "\u001b[2K     \u001b[90m━━━━━━━━━━━━━━━━━━━━━━━━━━━━━━━━━━━━━━━━\u001b[0m \u001b[32m41.2/41.2 MB\u001b[0m \u001b[31m49.5 MB/s\u001b[0m eta \u001b[36m0:00:00\u001b[0m00:01\u001b[0m00:01\u001b[0m\n",
      "\u001b[?25h  Preparing metadata (setup.py) ... \u001b[?25ldone\n",
      "\u001b[?25hRequirement already satisfied: gymnasium in /opt/conda/lib/python3.11/site-packages (from flappy-bird-gymnasium==0.4.0) (0.29.1)\n",
      "Requirement already satisfied: numpy in /opt/conda/lib/python3.11/site-packages (from flappy-bird-gymnasium==0.4.0) (1.26.3)\n",
      "Requirement already satisfied: pygame in /opt/conda/lib/python3.11/site-packages (from flappy-bird-gymnasium==0.4.0) (2.5.2)\n",
      "Requirement already satisfied: matplotlib in /opt/conda/lib/python3.11/site-packages (from flappy-bird-gymnasium==0.4.0) (3.8.2)\n",
      "Requirement already satisfied: cloudpickle>=1.2.0 in /opt/conda/lib/python3.11/site-packages (from gymnasium->flappy-bird-gymnasium==0.4.0) (3.0.0)\n",
      "Requirement already satisfied: typing-extensions>=4.3.0 in /opt/conda/lib/python3.11/site-packages (from gymnasium->flappy-bird-gymnasium==0.4.0) (4.9.0)\n",
      "Requirement already satisfied: farama-notifications>=0.0.1 in /opt/conda/lib/python3.11/site-packages (from gymnasium->flappy-bird-gymnasium==0.4.0) (0.0.4)\n",
      "Requirement already satisfied: contourpy>=1.0.1 in /opt/conda/lib/python3.11/site-packages (from matplotlib->flappy-bird-gymnasium==0.4.0) (1.2.0)\n",
      "Requirement already satisfied: cycler>=0.10 in /opt/conda/lib/python3.11/site-packages (from matplotlib->flappy-bird-gymnasium==0.4.0) (0.12.1)\n",
      "Requirement already satisfied: fonttools>=4.22.0 in /opt/conda/lib/python3.11/site-packages (from matplotlib->flappy-bird-gymnasium==0.4.0) (4.47.2)\n",
      "Requirement already satisfied: kiwisolver>=1.3.1 in /opt/conda/lib/python3.11/site-packages (from matplotlib->flappy-bird-gymnasium==0.4.0) (1.4.5)\n",
      "Requirement already satisfied: packaging>=20.0 in /opt/conda/lib/python3.11/site-packages (from matplotlib->flappy-bird-gymnasium==0.4.0) (23.2)\n",
      "Requirement already satisfied: pillow>=8 in /opt/conda/lib/python3.11/site-packages (from matplotlib->flappy-bird-gymnasium==0.4.0) (10.2.0)\n",
      "Requirement already satisfied: pyparsing>=2.3.1 in /opt/conda/lib/python3.11/site-packages (from matplotlib->flappy-bird-gymnasium==0.4.0) (3.1.1)\n",
      "Requirement already satisfied: python-dateutil>=2.7 in /opt/conda/lib/python3.11/site-packages (from matplotlib->flappy-bird-gymnasium==0.4.0) (2.8.2)\n",
      "Requirement already satisfied: six>=1.5 in /opt/conda/lib/python3.11/site-packages (from python-dateutil>=2.7->matplotlib->flappy-bird-gymnasium==0.4.0) (1.16.0)\n",
      "\u001b[33mWARNING: Running pip as the 'root' user can result in broken permissions and conflicting behaviour with the system package manager. It is recommended to use a virtual environment instead: https://pip.pypa.io/warnings/venv\u001b[0m\u001b[33m\n",
      "\u001b[0mNote: you may need to restart the kernel to use updated packages.\n"
     ]
    }
   ],
   "source": [
    "pip install https://github.com/PatrickKudo/flappy-bird-gymnasium/archive/refs/heads/main.zip"
   ]
  },
  {
   "cell_type": "code",
   "execution_count": 2,
   "metadata": {},
   "outputs": [],
   "source": [
    "# Import packages and initialize environment\n",
    "import gymnasium\n",
    "import random\n",
    "import matplotlib.pyplot as plt\n",
    "import numpy as np\n",
    "import pygame\n",
    "from IPython.display import display, clear_output\n",
    "import flappy_bird_gymnasium\n",
    "import time\n",
    "import pygame\n",
    "import os\n",
    "\n",
    "os.environ[\"SDL_VIDEODRIVER\"] = \"dummy\"\n",
    "os.environ[\"SDL_AUDIODRIVER\"] = \"dummy\"\n",
    "\n",
    "env = gymnasium.make(\n",
    "    \"FlappyBird-v0\", audio_on=False, render_mode=\"rgb_array\", use_lidar=False\n",
    ")"
   ]
  },
  {
   "cell_type": "markdown",
   "metadata": {},
   "source": [
    "### Demonstrate policy of doing nothing (action = 0):"
   ]
  },
  {
   "cell_type": "code",
   "execution_count": 3,
   "metadata": {},
   "outputs": [
    {
     "name": "stdout",
     "output_type": "stream",
     "text": [
      "Total Steps = 31\n",
      "Final Score = 0\n"
     ]
    },
    {
     "data": {
      "image/png": "[encoded data removed]",
      "text/plain": [
       "<Figure size 640x480 with 1 Axes>"
      ]
     },
     "metadata": {},
     "output_type": "display_data"
    }
   ],
   "source": [
    "steps = 0\n",
    "obs = env.reset()\n",
    "pygame.init()\n",
    "\n",
    "while True:\n",
    "    # Getting action:\n",
    "    action = 0\n",
    "    for event in pygame.event.get():\n",
    "        if event.type == pygame.QUIT:\n",
    "            pygame.quit()\n",
    "        if event.type == pygame.KEYDOWN and (\n",
    "            event.key == pygame.K_SPACE or event.key == pygame.K_UP\n",
    "        ):\n",
    "            action = 1\n",
    "\n",
    "    # Processing:\n",
    "    obs, _, done, _, info = env.step(action)\n",
    "\n",
    "    # Get the RGB image of the game screen:\n",
    "    rgb_image = env.render()\n",
    "\n",
    "    steps += 1\n",
    "    print(\n",
    "        f\"Action: {action}\\n\"\n",
    "        f\"Score: {info['score']}\\n Steps: {steps}\\n\"\n",
    "    )\n",
    "\n",
    "    # Display the game screen:\n",
    "    plt.imshow(rgb_image)\n",
    "    plt.axis('off')\n",
    "    display(plt.gcf())\n",
    "    clear_output(wait=True)\n",
    "    time.sleep(0.1)\n",
    "\n",
    "    if done:\n",
    "        break\n",
    "\n",
    "env.close()\n",
    "\n",
    "# Final results:\n",
    "print('Total Steps = ' + str(steps))\n",
    "print('Final Score = ' + str(info['score']))"
   ]
  },
  {
   "cell_type": "markdown",
   "metadata": {},
   "source": [
    "### This demonstrates the manual way of applying the action of 0 (do nothing) with each step:"
   ]
  },
  {
   "cell_type": "code",
   "execution_count": 4,
   "metadata": {},
   "outputs": [
    {
     "data": {
      "text/plain": [
       "(array([ 0.58333333,  0.3125    ,  0.5078125 ,  1.        ,  0.        ,\n",
       "         1.        ,  1.        ,  0.        ,  1.        ,  0.72851562,\n",
       "         1.        , -0.5       ]),\n",
       " 0.1,\n",
       " False,\n",
       " False,\n",
       " {'score': 0})"
      ]
     },
     "execution_count": 4,
     "metadata": {},
     "output_type": "execute_result"
    }
   ],
   "source": [
    "obs = env.reset()\n",
    "env.step(0) #1\n",
    "env.step(0) #2\n",
    "env.step(0) #3\n",
    "env.step(0) #4\n",
    "env.step(0) #5\n",
    "env.step(0) #6\n",
    "env.step(0) #7\n",
    "env.step(0) #8\n",
    "env.step(0) #9\n",
    "env.step(0) #10\n",
    "env.step(0) #11\n",
    "env.step(0) #12\n",
    "env.step(0) \n",
    "env.step(0)\n",
    "env.step(0)\n",
    "env.step(0)\n",
    "env.step(0)\n",
    "env.step(0)\n",
    "env.step(0)\n",
    "env.step(0)\n",
    "env.step(0)\n",
    "env.step(0)\n",
    "env.step(0)\n",
    "env.step(0)\n",
    "env.step(0)\n",
    "env.step(0)\n",
    "env.step(0)\n",
    "env.step(0)\n",
    "env.step(0) #29\n",
    "env.step(0) #30"
   ]
  },
  {
   "cell_type": "markdown",
   "metadata": {},
   "source": [
    "### At step 31, the game will be over as the Flappy Bird falls to the ground (note reward = -1):"
   ]
  },
  {
   "cell_type": "code",
   "execution_count": 5,
   "metadata": {},
   "outputs": [
    {
     "data": {
      "text/plain": [
       "(array([ 0.56944444,  0.3125    ,  0.5078125 ,  1.        ,  0.        ,\n",
       "         1.        ,  1.        ,  0.        ,  1.        ,  0.743125  ,\n",
       "         1.        , -0.53333333]),\n",
       " -1,\n",
       " True,\n",
       " False,\n",
       " {'score': 0})"
      ]
     },
     "execution_count": 5,
     "metadata": {},
     "output_type": "execute_result"
    }
   ],
   "source": [
    "env.step(0) #31"
   ]
  },
  {
   "cell_type": "markdown",
   "metadata": {},
   "source": [
    "### Demonstrate random agent policy:"
   ]
  },
  {
   "cell_type": "code",
   "execution_count": 6,
   "metadata": {},
   "outputs": [
    {
     "name": "stdout",
     "output_type": "stream",
     "text": [
      "Total Steps = 50\n",
      "Final Score = 0\n"
     ]
    },
    {
     "data": {
      "image/png": "[encoded data removed]",
      "text/plain": [
       "<Figure size 640x480 with 1 Axes>"
      ]
     },
     "metadata": {},
     "output_type": "display_data"
    }
   ],
   "source": [
    "steps = 0\n",
    "obs = env.reset()\n",
    "pygame.init()\n",
    "\n",
    "while True:\n",
    "    # Pick action at random:\n",
    "    action = random.randint(0, 1)\n",
    "    for event in pygame.event.get():\n",
    "        if event.type == pygame.QUIT:\n",
    "            pygame.quit()\n",
    "        if event.type == pygame.KEYDOWN and (\n",
    "            event.key == pygame.K_SPACE or event.key == pygame.K_UP\n",
    "        ):\n",
    "            action = 1\n",
    "\n",
    "    # Processing:\n",
    "    obs, _, done, _, info = env.step(action)\n",
    "\n",
    "    # Get the RGB image of the game screen:\n",
    "    rgb_image = env.render()\n",
    "\n",
    "    steps += 1\n",
    "    print(\n",
    "        f\"Action: {action}\\n\"\n",
    "        f\"Score: {info['score']}\\n Steps: {steps}\\n\"\n",
    "    )\n",
    "\n",
    "    # Display the game screen:\n",
    "    plt.imshow(rgb_image)\n",
    "    plt.axis('off')\n",
    "    display(plt.gcf())\n",
    "    clear_output(wait=True)\n",
    "    time.sleep(0.1)\n",
    "\n",
    "    if done:\n",
    "        break\n",
    "\n",
    "env.close()\n",
    "\n",
    "# Final results:\n",
    "print('Total Steps = ' + str(steps))\n",
    "print('Final Score = ' + str(info['score']))"
   ]
  }
 ],
 "metadata": {
  "kernelspec": {
   "display_name": "Python 3 (ipykernel)",
   "language": "python",
   "name": "python3"
  },
  "language_info": {
   "codemirror_mode": {
    "name": "ipython",
    "version": 3
   },
   "file_extension": ".py",
   "mimetype": "text/x-python",
   "name": "python",
   "nbconvert_exporter": "python",
   "pygments_lexer": "ipython3",
   "version": "3.11.7"
  }
 },
 "nbformat": 4,
 "nbformat_minor": 4
}
